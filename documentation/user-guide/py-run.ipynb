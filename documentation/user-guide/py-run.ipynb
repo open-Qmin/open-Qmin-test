{
 "cells": [
  {
   "cell_type": "markdown",
   "id": "0ae47b24-a052-4add-ac75-1358f5f8da96",
   "metadata": {},
   "source": [
    "# Running openQmin (Python interface)"
   ]
  },
  {
   "cell_type": "markdown",
   "id": "423872ca-41f0-478d-b98d-96558344f318",
   "metadata": {},
   "source": [
    "Using *tools/runHelper.py*, you can define command-line parameters through a Python dictionary `runHelper.params`. These, along with any default parameters you didn't change, are converted by `runHelper.get_runcmd()` into a command-line string that calls *build/openQmin.out*.\n",
    "\n",
    "The dictionary keys of `runHelper.params` are the same as the long forms (appearing after the `--`s) of the command-line flags seen when you run `build/openQmin.out --help`, with the following exceptions:\n",
    "* `help` itself is not a key in `runHelper.params`\n",
    "* Parameters `'whole_Lx'`, `'whole_Ly'`, and `'whole_Lz'`, which define the system size **before** subdivision over MPI ranks, override `'Lx'`, `'Ly'`, and `'Lz'` by default. If you want to use `'Lx'`, `'Ly'`, `'Lz'` instead (which give the system size on each rank), you can pass `do_partition=False` to `runHelper.get_runcmd()`.\n",
    "\n",
    "In the example below, we'll make use of an exanple boundaryFile that we made in the page on [Boundary conditions (Python interface)](py-boundaries) and the example initialConfigurationFiles that we made in the page on [Initialization (Python interface)](py-initialization)."
   ]
  },
  {
   "cell_type": "code",
   "execution_count": 2,
   "id": "c73992a3-a776-4042-a896-b9708c6a29de",
   "metadata": {},
   "outputs": [
    {
     "name": "stdout",
     "output_type": "stream",
     "text": [
      "mpirun -n 3 build/openQmin.out --initializationSwitch 0 --GPU -1 --phaseConstantA -0.172 --phaseConstantB -2.12 --phaseConstantC 1.73 --deltaT 0.0005 --fTarget 1e-12 --iterations 500 --randomSeed -1 --L1 4.64 --L2 4.64 --L3 4.64 --L4 4.64 --L6 4.64 --boxL 50 --Lx 16 --Ly 50 --Lz 50 --initialConfigurationFile ../../my_init_file --boundaryFile ../../ceiling_and_wavy_floor.txt --saveFile ../../data/my_example_run --linearSpacedSaving -1 --logSpacedSaving -1 --stride 1 --hFieldX 0 --hFieldY 0 --hFieldZ 0 --hFieldMu0 1 --hFieldChi 1 --hFieldDeltaChi 0.5 --eFieldX 0 --eFieldY 0 --eFieldZ 0 --eFieldEpsilon0 1 --eFieldEpsilon 1 --eFieldDeltaEpsilon 0.5\n"
     ]
    }
   ],
   "source": [
    "import sys\n",
    "sys.path.append(\"../../tools/\")  # path to runHelper.py\n",
    "\n",
    "import runHelper as rh\n",
    "\n",
    "rh.mpi_num_processes = 3  # set to 1 for non-MPI run\n",
    "\n",
    "rh.params[\"boundaryFile\"] = \"../../ceiling_and_wavy_floor.txt\"\n",
    "rh.params[\"initialConfigurationFile\"] = \"../../my_init_file\"\n",
    "# choose a location and filename-prefix for this run's results\n",
    "rh.params[\"saveFile\"] = \"../../data/my_example_run\"\n",
    "rh.params[\"iterations\"] = 500  # max number of minimization timesteps\n",
    "# system size BEFORE subdivision across MPI ranks:\n",
    "rh.params[\"whole_Lx\"] = 50\n",
    "rh.params[\"whole_Ly\"] = 50\n",
    "rh.params[\"whole_Lz\"] = 50\n",
    "\n",
    "runcmd = rh.get_runcmd()  # generate command-line string\n",
    "print(runcmd)"
   ]
  },
  {
   "cell_type": "markdown",
   "id": "d8ea4d35-1c67-4463-abeb-c59bffe1e3cf",
   "metadata": {},
   "source": [
    "We can run openQmin with these options by any of the following routes:\n",
    "\n",
    "* Copy and paste the string into a terminal\n",
    "* Run within a Python script via `import os; os.system(runcmd)`\n",
    "* Run in a Jupyter notebook with `!{runcmd}`\n"
   ]
  }
 ],
 "metadata": {
  "kernelspec": {
   "display_name": "Python 3 (ipykernel)",
   "language": "python",
   "name": "python3"
  },
  "language_info": {
   "codemirror_mode": {
    "name": "ipython",
    "version": 3
   },
   "file_extension": ".py",
   "mimetype": "text/x-python",
   "name": "python",
   "nbconvert_exporter": "python",
   "pygments_lexer": "ipython3",
   "version": "3.9.9"
  }
 },
 "nbformat": 4,
 "nbformat_minor": 5
}
