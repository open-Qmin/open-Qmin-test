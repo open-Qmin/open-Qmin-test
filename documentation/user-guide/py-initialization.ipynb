{
 "cells": [
  {
   "cell_type": "markdown",
   "id": "bfb53419-fbcb-4448-b9df-24bb0fdbb1fe",
   "metadata": {},
   "source": [
    "# Initialization (Python interface)"
   ]
  },
  {
   "cell_type": "markdown",
   "id": "59596db4-7abc-4bd0-8036-f461b0c463af",
   "metadata": {},
   "source": [
    "## Demo for usage of *tools/initHelper.py*\n",
    "\n",
    "One option for initialization of openQmin is to specify the nematic director at each nematic site, storing this information in an initialConfigurationFile that we will import using either the command-line flag\n",
    "\n",
    "    --initialConfigurationFile /path/to/my_init_file\n",
    "    \n",
    "or by clicking *File -> load Configuration* in the GUI. \n",
    "\n",
    "*tools/initHelper.py* is a Python script to automate creation of the initialConfigurationFile, using NumPy to define functions of position \n",
    "as initial conditions for the nematic director field. Supply three strings for the functions \n",
    "giving the *x, y, z* director components, along with \n",
    "system size and nematic degree of order. The script will create an initialConfigurationFile\n",
    "where the Q-tensor has this director field and uniform, \n",
    "uniaxial nematic order."
   ]
  },
  {
   "cell_type": "code",
   "execution_count": 1,
   "id": "19f0deeb-7a4c-4d2c-af5f-c90f3ddf9f09",
   "metadata": {},
   "outputs": [],
   "source": [
    "import sys\n",
    "sys.path.append(\"../../tools/\")  # <-- replace with your path to initHelper.py\n",
    "\n",
    "from initHelper import create_init_state"
   ]
  },
  {
   "cell_type": "markdown",
   "id": "c274fb8f-4b7a-4142-ad12-5ab5ed8ece99",
   "metadata": {},
   "source": [
    "First let's define the setup and a name (with path) for our initConfigurationFiles. We're using 3 MPI processes for this example, but you can also run it with `mpi_num_processes = 1`. "
   ]
  },
  {
   "cell_type": "code",
   "execution_count": 8,
   "id": "3996000a-d250-40ca-9a6c-4a9527c09bf3",
   "metadata": {},
   "outputs": [],
   "source": [
    "# system size *before* MPI subdivision\n",
    "whole_Lx = 50\n",
    "whole_Ly = 50\n",
    "whole_Lz = 50\n",
    "S = 0.53  # uniaxial order for all sites\n",
    "mpi_num_processes = 3  # set to 1 for non-MPI run\n",
    "# file path, without \".txt\", for initialConfigurationFile(s)\n",
    "initfilename_prefix = \"../../my_init_file\""
   ]
  },
  {
   "cell_type": "markdown",
   "id": "5a30fb8c-075b-4e83-ad7c-58682f9cb362",
   "metadata": {},
   "source": [
    "Now we define functions for our director components, formatted as **strings** that will be evaluated as expressions by NumPy. This example creates a cholesteric helix, with pitch equal to the system's $z$-height and pitch axis along the $z$ direction."
   ]
  },
  {
   "cell_type": "code",
   "execution_count": 9,
   "id": "bcf9cb3f-a705-4684-9a90-f6660d6b1de7",
   "metadata": {},
   "outputs": [],
   "source": [
    "# change these to your own functions:\n",
    "nx_function_string = f\"cos(2 * pi * z / {whole_Lz})\"\n",
    "ny_function_string = f\"sin(2 * pi * z / {whole_Lz})\"\n",
    "nz_function_string = \"0\""
   ]
  },
  {
   "cell_type": "markdown",
   "id": "12bf64cb-929b-429f-b8d8-c30f4ab95505",
   "metadata": {},
   "source": [
    "The above example strings illustrate a few important points:\n",
    "\n",
    "* The strings will be evaluated after `from numpy import *`, so you can use any NumPy function (`cos`, `sin`, etc.) and constants such as `pi`.\n",
    "* Using Python f-strings, we can include values of variables (such as `whole_Lz`) in the string.\n",
    "* Coordinates (in this case, `z`) will be transformed to arrays automatically.\n",
    "* Constant values (such as `0` in this case for $n_z$) are allowed."
   ]
  },
  {
   "cell_type": "markdown",
   "id": "8dec0895-8f43-4a3c-b7a5-750bae0874f8",
   "metadata": {},
   "source": [
    "The allowed coordinate variables are:\n",
    "- **Cartesian**: `x`, `y`, `z`.\n",
    "    These are relative to a simulation box corner\n",
    "    and will range over the values [0,Lx-1], [0,Ly-1],\n",
    "    and [0,Lz-1] respectively. \n",
    "- **Cylindrical polar**: `rho`, `phi`, `z`.\n",
    "    These are relative to the center of the bottom face of \n",
    "    the box.\n",
    "- **Spherical polar**: `r_sph`, `theta`, `phi`.\n",
    "    These are relative to the box center, with `r_sph`\n",
    "    in units of lattice spacings.        \n"
   ]
  },
  {
   "cell_type": "markdown",
   "id": "753010a0-ee1d-4fde-a7ab-75c9759821ea",
   "metadata": {},
   "source": [
    "Now we call *initHelper.py*'s function `create_init_state` to generate the initialConfigurationFiles. If using MPI, you'll see that one file is created for each MPI rank."
   ]
  },
  {
   "cell_type": "code",
   "execution_count": 10,
   "id": "7515a451-1beb-435e-973c-976548d849dd",
   "metadata": {},
   "outputs": [
    {
     "name": "stdout",
     "output_type": "stream",
     "text": [
      "0 0 0\n",
      "Configuration for process (0,0,0) has been saved to ../../my_init_file_x0y0z0.txt.\n",
      "1 0 0\n",
      "Configuration for process (1,0,0) has been saved to ../../my_init_file_x1y0z0.txt.\n",
      "2 0 0\n",
      "Configuration for process (2,0,0) has been saved to ../../my_init_file_x2y0z0.txt.\n",
      "['../../my_init_file_x0y0z0.txt', '../../my_init_file_x1y0z0.txt', '../../my_init_file_x2y0z0.txt']\n"
     ]
    }
   ],
   "source": [
    "initfilenames = create_init_state(\n",
    "    (whole_Lx, whole_Ly, whole_Lz),\n",
    "    S,\n",
    "    initfilename_prefix,\n",
    "    nx_function_string,\n",
    "    ny_function_string,\n",
    "    nz_function_string,\n",
    "    mpi_num_processes=mpi_num_processes,\n",
    ")\n",
    "print(initfilenames)"
   ]
  },
  {
   "cell_type": "markdown",
   "id": "58bbee99-2363-4245-9246-d39b3c34f92c",
   "metadata": {},
   "source": [
    "Let's take a look at our initial configuration. If you're running this Jupyter notebook locally, you can set `off_screen=False` for more interactivity."
   ]
  },
  {
   "cell_type": "code",
   "execution_count": 11,
   "id": "937a774e-1eda-4bd7-8f6f-04040e72c0ba",
   "metadata": {
    "tags": [
     "hide-cell"
    ]
   },
   "outputs": [],
   "source": [
    "# Install openViewMin dependencies as needed\n",
    "!{sys.executable} -m pip install pandas \"PyQt5<5.14\" pyvistaqt tqdm imageio-ffmpeg xvfbwrapper >> /dev/null"
   ]
  },
  {
   "cell_type": "code",
   "execution_count": 6,
   "id": "f850afb3-e5e5-4076-a8df-17e55a7945a6",
   "metadata": {},
   "outputs": [
    {
     "name": "stderr",
     "output_type": "stream",
     "text": [
      "which: no Xvfb in (/home/dbeller3/myenv/bin:/home/dbeller3/.local/bin:/home/dbeller3/bin:/data/apps/linux-centos8-cascadelake/gcc-9.3.0/git-2.28.0-uh6lz2zi2m3rwkfujclkz2qrtm6awu6s/bin:/data/apps/helpers:/cm/shared/apps/slurm/current/sbin:/cm/shared/apps/slurm/current/bin:/data/apps/linux-centos8-cascadelake/gcc-9.3.0/openmpi-3.1.6-rk3nyoehbq3pke4zy4hn7unns3ujtutx/bin:/data/apps/linux-centos8-cascadelake/gcc-9.2.0/gcc-9.3.0-bnvby67rgbqevwsd264rgz44xucnkhpm/bin:/opt/lenovo/onecli:/usr/lpp/mmfs/bin:/home/dbeller3/.local/bin:/home/dbeller3/bin:/usr/local/bin:/usr/bin:/usr/local/sbin:/usr/sbin)\n"
     ]
    },
    {
     "ename": "OSError",
     "evalue": "Please install Xvfb with:\n\nDebian\n$ sudo apt install libgl1-mesa-glx xvfb\n\nCentOS / RHL\n$ sudo yum install libgl1-mesa-glx xvfb\n\n",
     "output_type": "error",
     "traceback": [
      "\u001b[0;31m---------------------------------------------------------------------------\u001b[0m",
      "\u001b[0;31mOSError\u001b[0m                                   Traceback (most recent call last)",
      "\u001b[0;32m/tmp/ipykernel_8332/4219160995.py\u001b[0m in \u001b[0;36m<module>\u001b[0;34m\u001b[0m\n\u001b[1;32m      4\u001b[0m \u001b[0;32mimport\u001b[0m \u001b[0mopenViewMin\u001b[0m\u001b[0;34m\u001b[0m\u001b[0;34m\u001b[0m\u001b[0m\n\u001b[1;32m      5\u001b[0m \u001b[0;34m\u001b[0m\u001b[0m\n\u001b[0;32m----> 6\u001b[0;31m \u001b[0mopenViewMin\u001b[0m\u001b[0;34m.\u001b[0m\u001b[0mstart_xvfb\u001b[0m\u001b[0;34m(\u001b[0m\u001b[0;34m)\u001b[0m\u001b[0;34m\u001b[0m\u001b[0;34m\u001b[0m\u001b[0m\n\u001b[0m\u001b[1;32m      7\u001b[0m \u001b[0mnplot\u001b[0m \u001b[0;34m=\u001b[0m \u001b[0mopenViewMin\u001b[0m\u001b[0;34m.\u001b[0m\u001b[0mNematicPlot\u001b[0m\u001b[0;34m(\u001b[0m\u001b[0minitfilenames\u001b[0m\u001b[0;34m,\u001b[0m \u001b[0moff_screen\u001b[0m\u001b[0;34m=\u001b[0m\u001b[0;32mTrue\u001b[0m\u001b[0;34m,\u001b[0m \u001b[0mwindow_size\u001b[0m\u001b[0;34m=\u001b[0m\u001b[0;34m(\u001b[0m\u001b[0;36m800\u001b[0m\u001b[0;34m,\u001b[0m \u001b[0;36m800\u001b[0m\u001b[0;34m)\u001b[0m\u001b[0;34m)\u001b[0m\u001b[0;34m\u001b[0m\u001b[0;34m\u001b[0m\u001b[0m\n\u001b[1;32m      8\u001b[0m \u001b[0mdisplay\u001b[0m\u001b[0;34m(\u001b[0m\u001b[0mnplot\u001b[0m\u001b[0;34m.\u001b[0m\u001b[0mto_pythreejs\u001b[0m\u001b[0;34m(\u001b[0m\u001b[0;34m)\u001b[0m\u001b[0;34m)\u001b[0m\u001b[0;34m\u001b[0m\u001b[0;34m\u001b[0m\u001b[0m\n",
      "\u001b[0;32m~/open-Qmin/documentation/user-guide/../../../openviewmin/openViewMin.py\u001b[0m in \u001b[0;36mstart_xvfb\u001b[0;34m()\u001b[0m\n\u001b[1;32m     39\u001b[0m \u001b[0;34m\u001b[0m\u001b[0m\n\u001b[1;32m     40\u001b[0m \u001b[0;32mdef\u001b[0m \u001b[0mstart_xvfb\u001b[0m\u001b[0;34m(\u001b[0m\u001b[0;34m)\u001b[0m\u001b[0;34m:\u001b[0m\u001b[0;34m\u001b[0m\u001b[0;34m\u001b[0m\u001b[0m\n\u001b[0;32m---> 41\u001b[0;31m     \u001b[0mpv\u001b[0m\u001b[0;34m.\u001b[0m\u001b[0mstart_xvfb\u001b[0m\u001b[0;34m(\u001b[0m\u001b[0;34m)\u001b[0m\u001b[0;34m\u001b[0m\u001b[0;34m\u001b[0m\u001b[0m\n\u001b[0m\u001b[1;32m     42\u001b[0m \u001b[0;34m\u001b[0m\u001b[0m\n\u001b[1;32m     43\u001b[0m \u001b[0;32mclass\u001b[0m \u001b[0mFormDialog\u001b[0m\u001b[0;34m(\u001b[0m\u001b[0mqw\u001b[0m\u001b[0;34m.\u001b[0m\u001b[0mQDialog\u001b[0m\u001b[0;34m)\u001b[0m\u001b[0;34m:\u001b[0m\u001b[0;34m\u001b[0m\u001b[0;34m\u001b[0m\u001b[0m\n",
      "\u001b[0;32m~/.conda/envs/py39/lib/python3.9/site-packages/pyvista/utilities/xvfb.py\u001b[0m in \u001b[0;36mstart_xvfb\u001b[0;34m(wait, window_size)\u001b[0m\n\u001b[1;32m     45\u001b[0m \u001b[0;34m\u001b[0m\u001b[0m\n\u001b[1;32m     46\u001b[0m     \u001b[0;32mif\u001b[0m \u001b[0mos\u001b[0m\u001b[0;34m.\u001b[0m\u001b[0msystem\u001b[0m\u001b[0;34m(\u001b[0m\u001b[0;34m'which Xvfb > /dev/null'\u001b[0m\u001b[0;34m)\u001b[0m\u001b[0;34m:\u001b[0m\u001b[0;34m\u001b[0m\u001b[0;34m\u001b[0m\u001b[0m\n\u001b[0;32m---> 47\u001b[0;31m         \u001b[0;32mraise\u001b[0m \u001b[0mOSError\u001b[0m\u001b[0;34m(\u001b[0m\u001b[0mXVFB_INSTALL_NOTES\u001b[0m\u001b[0;34m)\u001b[0m\u001b[0;34m\u001b[0m\u001b[0;34m\u001b[0m\u001b[0m\n\u001b[0m\u001b[1;32m     48\u001b[0m \u001b[0;34m\u001b[0m\u001b[0m\n\u001b[1;32m     49\u001b[0m     \u001b[0;31m# use current default window size\u001b[0m\u001b[0;34m\u001b[0m\u001b[0;34m\u001b[0m\u001b[0m\n",
      "\u001b[0;31mOSError\u001b[0m: Please install Xvfb with:\n\nDebian\n$ sudo apt install libgl1-mesa-glx xvfb\n\nCentOS / RHL\n$ sudo yum install libgl1-mesa-glx xvfb\n\n"
     ]
    }
   ],
   "source": [
    "# replace with your path to openViewMin\n",
    "sys.path.append(\"../../../openviewmin/\")\n",
    "\n",
    "import openViewMin\n",
    "\n",
    "openViewMin.start_xvfb()\n",
    "nplot = openViewMin.NematicPlot(initfilenames, off_screen=True, window_size=(800, 800))\n",
    "display(nplot.to_pythreejs())\n",
    "nplot.close()"
   ]
  },
  {
   "cell_type": "code",
   "execution_count": null,
   "id": "69fe5f2e-0a71-47d7-bee0-d96ce2dcfcd7",
   "metadata": {},
   "outputs": [],
   "source": []
  },
  {
   "cell_type": "code",
   "execution_count": null,
   "id": "cac3421c-a562-4b54-84b0-bebfeb547569",
   "metadata": {},
   "outputs": [],
   "source": []
  }
 ],
 "metadata": {
  "kernelspec": {
   "display_name": "py39",
   "language": "python",
   "name": "py39"
  },
  "language_info": {
   "codemirror_mode": {
    "name": "ipython",
    "version": 3
   },
   "file_extension": ".py",
   "mimetype": "text/x-python",
   "name": "python",
   "nbconvert_exporter": "python",
   "pygments_lexer": "ipython3",
   "version": "3.9.7"
  }
 },
 "nbformat": 4,
 "nbformat_minor": 5
}
